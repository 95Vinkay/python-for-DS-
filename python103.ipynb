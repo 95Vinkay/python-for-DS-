{
 "cells": [
  {
   "cell_type": "markdown",
   "metadata": {},
   "source": [
    "## Conditions and Branching"
   ]
  },
  {
   "cell_type": "markdown",
   "metadata": {},
   "source": [
    "Comparision operation compare some value or operand, then, based on somme condition they produce boolean"
   ]
  },
  {
   "cell_type": "code",
   "execution_count": 1,
   "metadata": {},
   "outputs": [
    {
     "data": {
      "text/plain": [
       "False"
      ]
     },
     "execution_count": 1,
     "metadata": {},
     "output_type": "execute_result"
    }
   ],
   "source": [
    "a=6\n",
    "a==7"
   ]
  },
  {
   "cell_type": "markdown",
   "metadata": {},
   "source": [
    "== / ! / < / > / <= / >= "
   ]
  },
  {
   "cell_type": "markdown",
   "metadata": {},
   "source": [
    "Branching allow us to run different statements fir a different input"
   ]
  },
  {
   "cell_type": "code",
   "execution_count": 8,
   "metadata": {},
   "outputs": [
    {
     "name": "stdout",
     "output_type": "stream",
     "text": [
      "you can enter\n",
      "move on\n"
     ]
    }
   ],
   "source": [
    "age = 19\n",
    "\n",
    "if(age>18):\n",
    "    print(\"you can enter\")\n",
    "    \n",
    "print(\"move on\")    "
   ]
  },
  {
   "cell_type": "code",
   "execution_count": 9,
   "metadata": {},
   "outputs": [
    {
     "name": "stdout",
     "output_type": "stream",
     "text": [
      "go see Meat Loaf\n",
      "move on\n"
     ]
    }
   ],
   "source": [
    "age = 17\n",
    "\n",
    "if(age>18):\n",
    "    print(\"you can enter\")\n",
    "\n",
    "else:\n",
    "    print(\"go see Meat Loaf\")   \n",
    "     \n",
    "print(\"move on\")   "
   ]
  },
  {
   "cell_type": "code",
   "execution_count": 10,
   "metadata": {},
   "outputs": [
    {
     "name": "stdout",
     "output_type": "stream",
     "text": [
      "go see Pink Floyd\n",
      "move on\n"
     ]
    }
   ],
   "source": [
    "age = 18\n",
    "\n",
    "if(age>18):\n",
    "    print(\"you can enter\")\n",
    "\n",
    "elif(age==18):\n",
    "    print(\"go see Pink Floyd\")\n",
    "\n",
    "else:\n",
    "    print(\"go see Meat Loaf\")    \n",
    "    \n",
    "print(\"move on\") "
   ]
  },
  {
   "cell_type": "markdown",
   "metadata": {},
   "source": [
    "## Logic Operators"
   ]
  },
  {
   "cell_type": "code",
   "execution_count": 11,
   "metadata": {},
   "outputs": [
    {
     "data": {
      "text/plain": [
       "False"
      ]
     },
     "execution_count": 11,
     "metadata": {},
     "output_type": "execute_result"
    }
   ],
   "source": [
    "not(True)"
   ]
  },
  {
   "cell_type": "code",
   "execution_count": 12,
   "metadata": {},
   "outputs": [
    {
     "data": {
      "text/plain": [
       "True"
      ]
     },
     "execution_count": 12,
     "metadata": {},
     "output_type": "execute_result"
    }
   ],
   "source": [
    "not(False)"
   ]
  },
  {
   "cell_type": "code",
   "execution_count": 15,
   "metadata": {},
   "outputs": [
    {
     "data": {
      "text/plain": [
       "True"
      ]
     },
     "execution_count": 15,
     "metadata": {},
     "output_type": "execute_result"
    }
   ],
   "source": [
    "A = True\n",
    "B = True\n",
    "A or B # False only when both A and B are False"
   ]
  },
  {
   "cell_type": "code",
   "execution_count": 16,
   "metadata": {},
   "outputs": [
    {
     "name": "stdout",
     "output_type": "stream",
     "text": [
      "The Album was made in the 70's or 90's\n"
     ]
    }
   ],
   "source": [
    "album_year = 1990\n",
    "\n",
    "if (album_year<1980) or (album_year>1989):\n",
    "    print(\"The Album was made in the 70's or 90's\")\n",
    "\n",
    "else:\n",
    "    print(\"The Album was made in the 80's\")"
   ]
  },
  {
   "cell_type": "code",
   "execution_count": 18,
   "metadata": {},
   "outputs": [
    {
     "data": {
      "text/plain": [
       "False"
      ]
     },
     "execution_count": 18,
     "metadata": {},
     "output_type": "execute_result"
    }
   ],
   "source": [
    "A = True\n",
    "B = False\n",
    "A and B # True only when both A and B are True"
   ]
  },
  {
   "cell_type": "code",
   "execution_count": 19,
   "metadata": {},
   "outputs": [
    {
     "name": "stdout",
     "output_type": "stream",
     "text": [
      "The Album was made in the 80's\n"
     ]
    }
   ],
   "source": [
    "album_year = 1983\n",
    "\n",
    "if (album_year>1979) and (album_year<1990):\n",
    "    print(\"The Album was made in the 80's\")"
   ]
  },
  {
   "cell_type": "markdown",
   "metadata": {},
   "source": [
    "## Loops"
   ]
  },
  {
   "cell_type": "code",
   "execution_count": 22,
   "metadata": {},
   "outputs": [
    {
     "data": {
      "text/plain": [
       "range(0, 10)"
      ]
     },
     "execution_count": 22,
     "metadata": {},
     "output_type": "execute_result"
    }
   ],
   "source": [
    "range(10)"
   ]
  },
  {
   "cell_type": "markdown",
   "metadata": {},
   "source": [
    "For Loop"
   ]
  },
  {
   "cell_type": "code",
   "execution_count": 24,
   "metadata": {},
   "outputs": [
    {
     "name": "stdout",
     "output_type": "stream",
     "text": [
      "['white', 'white', 'white', 'white', 'white']\n"
     ]
    }
   ],
   "source": [
    "squares = ['red','yellow','green','purple','blue']\n",
    "\n",
    "for i in range(0,5):\n",
    "    squares[i]='white'\n",
    "print(squares)    "
   ]
  },
  {
   "cell_type": "code",
   "execution_count": 25,
   "metadata": {},
   "outputs": [
    {
     "name": "stdout",
     "output_type": "stream",
     "text": [
      "0 red\n",
      "1 yellow\n",
      "2 green\n"
     ]
    }
   ],
   "source": [
    "squares = ['red','yellow','green']\n",
    "\n",
    "for i,square in enumerate(squares):\n",
    "    print(i,square)"
   ]
  },
  {
   "cell_type": "code",
   "execution_count": 27,
   "metadata": {},
   "outputs": [
    {
     "name": "stdout",
     "output_type": "stream",
     "text": [
      "1982\n",
      "1980\n",
      "1973\n"
     ]
    }
   ],
   "source": [
    "# For loop example\n",
    "\n",
    "dates = [1982,1980,1973]\n",
    "N = len(dates)\n",
    "\n",
    "for i in range(N):\n",
    "    print(dates[i]) "
   ]
  },
  {
   "cell_type": "code",
   "execution_count": 28,
   "metadata": {},
   "outputs": [
    {
     "name": "stdout",
     "output_type": "stream",
     "text": [
      "Before square  0 is red\n",
      "After square  0 is white\n",
      "Before square  1 is yellow\n",
      "After square  1 is white\n",
      "Before square  2 is green\n",
      "After square  2 is white\n",
      "Before square  3 is purple\n",
      "After square  3 is white\n",
      "Before square  4 is blue\n",
      "After square  4 is white\n"
     ]
    }
   ],
   "source": [
    "# Use for loop to change the elements in list\n",
    "\n",
    "squares = ['red', 'yellow', 'green', 'purple', 'blue']\n",
    "\n",
    "for i in range(0, 5):\n",
    "    print(\"Before square \", i, 'is',  squares[i])\n",
    "    squares[i] = 'white'\n",
    "    print(\"After square \", i, 'is',  squares[i])"
   ]
  },
  {
   "cell_type": "markdown",
   "metadata": {},
   "source": [
    "While Loop"
   ]
  },
  {
   "cell_type": "code",
   "execution_count": 26,
   "metadata": {},
   "outputs": [
    {
     "name": "stdout",
     "output_type": "stream",
     "text": [
      "['orange', 'orange']\n"
     ]
    }
   ],
   "source": [
    "squares=['orange','orange','purple','blue']\n",
    "newSquare=[]\n",
    "i=0\n",
    "\n",
    "while(squares[i]=='orange'):\n",
    "    newSquare.append(squares[i])\n",
    "    i+=1\n",
    "print(newSquare)    "
   ]
  },
  {
   "cell_type": "code",
   "execution_count": 29,
   "metadata": {},
   "outputs": [
    {
     "name": "stdout",
     "output_type": "stream",
     "text": [
      "1\n",
      "2\n",
      "3\n",
      "4\n",
      "5\n"
     ]
    }
   ],
   "source": [
    "count = 1\n",
    "while count <= 5:\n",
    "    print(count)\n",
    "    count += 1"
   ]
  },
  {
   "cell_type": "code",
   "execution_count": 30,
   "metadata": {},
   "outputs": [
    {
     "name": "stdout",
     "output_type": "stream",
     "text": [
      "1982\n",
      "1980\n",
      "It took  2 repetitions to get out of loop.\n"
     ]
    }
   ],
   "source": [
    "# While Loop Example\n",
    "\n",
    "dates = [1982, 1980, 1973, 2000]\n",
    "\n",
    "i = 0\n",
    "year = dates[0]\n",
    "\n",
    "while(year != 1973):    \n",
    "    print(year)\n",
    "    i = i + 1\n",
    "    year = dates[i]\n",
    "    \n",
    "\n",
    "print(\"It took \", i ,\"repetitions to get out of loop.\")"
   ]
  },
  {
   "cell_type": "markdown",
   "metadata": {},
   "source": [
    "The main difference between a while loop and a for loop in Python is how they control the flow of execution and handle iterations."
   ]
  },
  {
   "cell_type": "markdown",
   "metadata": {},
   "source": [
    "### Key point of While Loop:\n",
    "A while loop repeatedly executes a block of code as long as a given condition is true.\n"
   ]
  },
  {
   "cell_type": "markdown",
   "metadata": {},
   "source": [
    "It does not have a fixed number of iterations but continues executing until the condition becomes false.\n"
   ]
  },
  {
   "cell_type": "markdown",
   "metadata": {},
   "source": [
    "The condition is checked before each iteration, and if it's false initially, the code block is skipped entirely.\n"
   ]
  },
  {
   "cell_type": "markdown",
   "metadata": {},
   "source": [
    "The condition is typically based on a variable or expression that can change during the execution of the loop.\n"
   ]
  },
  {
   "cell_type": "markdown",
   "metadata": {},
   "source": [
    "It provides more flexibility in terms of controlling the loop's execution based on dynamic conditions."
   ]
  },
  {
   "cell_type": "markdown",
   "metadata": {},
   "source": [
    "### Key point of For Loop:"
   ]
  },
  {
   "cell_type": "markdown",
   "metadata": {},
   "source": [
    "A for loop iterates over a sequence (such as a list, string, or range) or any object that supports iteration."
   ]
  },
  {
   "cell_type": "markdown",
   "metadata": {},
   "source": [
    "It has a predefined number of iterations based on the length of the sequence or the number of items to iterate over."
   ]
  },
  {
   "cell_type": "markdown",
   "metadata": {},
   "source": [
    "It automatically handles the iteration and does not require maintaining a separate variable for tracking the iteration count."
   ]
  },
  {
   "cell_type": "markdown",
   "metadata": {},
   "source": [
    "It simplifies the code by encapsulating the iteration logic within the loop itself."
   ]
  },
  {
   "cell_type": "markdown",
   "metadata": {},
   "source": [
    "It is commonly used when you know the exact number of iterations or need to iterate over each item in a collection."
   ]
  },
  {
   "cell_type": "markdown",
   "metadata": {},
   "source": [
    "## Functions"
   ]
  },
  {
   "cell_type": "code",
   "execution_count": 1,
   "metadata": {},
   "outputs": [
    {
     "data": {
      "text/plain": [
       "7"
      ]
     },
     "execution_count": 1,
     "metadata": {},
     "output_type": "execute_result"
    }
   ],
   "source": [
    "ratings = [10.2,8,9,5,6,3,6.2]\n",
    "len(ratings)"
   ]
  },
  {
   "cell_type": "code",
   "execution_count": 2,
   "metadata": {},
   "outputs": [
    {
     "data": {
      "text/plain": [
       "47.400000000000006"
      ]
     },
     "execution_count": 2,
     "metadata": {},
     "output_type": "execute_result"
    }
   ],
   "source": [
    "sum(ratings)"
   ]
  },
  {
   "cell_type": "code",
   "execution_count": 3,
   "metadata": {},
   "outputs": [
    {
     "data": {
      "text/plain": [
       "[3, 5, 6, 6.2, 8, 9, 10.2]"
      ]
     },
     "execution_count": 3,
     "metadata": {},
     "output_type": "execute_result"
    }
   ],
   "source": [
    "sorted(ratings)"
   ]
  },
  {
   "cell_type": "code",
   "execution_count": 4,
   "metadata": {},
   "outputs": [
    {
     "data": {
      "text/plain": [
       "[10.2, 8, 9, 5, 6, 3, 6.2]"
      ]
     },
     "execution_count": 4,
     "metadata": {},
     "output_type": "execute_result"
    }
   ],
   "source": [
    "ratings"
   ]
  },
  {
   "cell_type": "code",
   "execution_count": 5,
   "metadata": {},
   "outputs": [],
   "source": [
    "ratings.sort()"
   ]
  },
  {
   "cell_type": "code",
   "execution_count": 6,
   "metadata": {},
   "outputs": [
    {
     "data": {
      "text/plain": [
       "[3, 5, 6, 6.2, 8, 9, 10.2]"
      ]
     },
     "execution_count": 6,
     "metadata": {},
     "output_type": "execute_result"
    }
   ],
   "source": [
    "ratings"
   ]
  },
  {
   "cell_type": "code",
   "execution_count": 8,
   "metadata": {},
   "outputs": [
    {
     "data": {
      "text/plain": [
       "6"
      ]
     },
     "execution_count": 8,
     "metadata": {},
     "output_type": "execute_result"
    }
   ],
   "source": [
    "def add1(a):\n",
    "    b=a+1\n",
    "    return b\n",
    "\n",
    "add1(5)"
   ]
  },
  {
   "cell_type": "code",
   "execution_count": 9,
   "metadata": {},
   "outputs": [
    {
     "data": {
      "text/plain": [
       "11"
      ]
     },
     "execution_count": 9,
     "metadata": {},
     "output_type": "execute_result"
    }
   ],
   "source": [
    "c=add1(10)\n",
    "c"
   ]
  },
  {
   "cell_type": "code",
   "execution_count": 11,
   "metadata": {},
   "outputs": [
    {
     "name": "stdout",
     "output_type": "stream",
     "text": [
      "Help on function add2 in module __main__:\n",
      "\n",
      "add2(a)\n",
      "    add 1 to a\n",
      "\n"
     ]
    }
   ],
   "source": [
    "def add2(a):\n",
    "    \"\"\"add 1 to a\"\"\" # documentation string\n",
    "    b=a+1\n",
    "    return b\n",
    "help(add2)"
   ]
  },
  {
   "cell_type": "code",
   "execution_count": 12,
   "metadata": {},
   "outputs": [
    {
     "data": {
      "text/plain": [
       "6"
      ]
     },
     "execution_count": 12,
     "metadata": {},
     "output_type": "execute_result"
    }
   ],
   "source": [
    "def mul(a,b):\n",
    "    c=a*b\n",
    "    return c\n",
    "\n",
    "mul(2,3)"
   ]
  },
  {
   "cell_type": "code",
   "execution_count": 14,
   "metadata": {},
   "outputs": [
    {
     "data": {
      "text/plain": [
       "'muzan muzan '"
      ]
     },
     "execution_count": 14,
     "metadata": {},
     "output_type": "execute_result"
    }
   ],
   "source": [
    "mul(2,\"muzan \")"
   ]
  },
  {
   "cell_type": "code",
   "execution_count": 15,
   "metadata": {},
   "outputs": [],
   "source": [
    "def NoWork():\n",
    "    pass\n",
    "\n",
    "NoWork()"
   ]
  },
  {
   "cell_type": "code",
   "execution_count": 16,
   "metadata": {},
   "outputs": [
    {
     "name": "stdout",
     "output_type": "stream",
     "text": [
      "None\n"
     ]
    }
   ],
   "source": [
    "print(NoWork())"
   ]
  },
  {
   "cell_type": "code",
   "execution_count": 17,
   "metadata": {},
   "outputs": [
    {
     "name": "stdout",
     "output_type": "stream",
     "text": [
      "10 plus 1 equals :  11\n"
     ]
    },
    {
     "data": {
      "text/plain": [
       "11"
      ]
     },
     "execution_count": 17,
     "metadata": {},
     "output_type": "execute_result"
    }
   ],
   "source": [
    "def add3(a):\n",
    "    b=a+1\n",
    "    print(a,\"plus 1 equals : \",b)\n",
    "    return b \n",
    "\n",
    "add3(10)"
   ]
  },
  {
   "cell_type": "code",
   "execution_count": 20,
   "metadata": {},
   "outputs": [
    {
     "name": "stdout",
     "output_type": "stream",
     "text": [
      "Album 0 Rating 10\n",
      "Album 1 Rating 8.9\n",
      "Album 2 Rating 9.2\n",
      "Album 3 Rating 6.8\n",
      "Album 4 Rating 7.7\n"
     ]
    }
   ],
   "source": [
    "def printStuff(Stuff):\n",
    "    for i,s in enumerate(Stuff):\n",
    "        print(\"Album\" ,i,\"Rating\", s)\n",
    "\n",
    "album_ratings = [10,8.9,9.2,6.8,7.7]\n",
    "printStuff(album_ratings)        "
   ]
  },
  {
   "cell_type": "code",
   "execution_count": 21,
   "metadata": {},
   "outputs": [
    {
     "name": "stdout",
     "output_type": "stream",
     "text": [
      "Muzan\n",
      "Tanjiro\n",
      "Akaza\n",
      "Rengoku\n"
     ]
    }
   ],
   "source": [
    "def artistNames(*names):\n",
    "    for name in names:\n",
    "        print(name)\n",
    "\n",
    "artistNames(\"Muzan\",\"Tanjiro\",\"Akaza\",\"Rengoku\")        "
   ]
  },
  {
   "cell_type": "markdown",
   "metadata": {},
   "source": [
    "### Scope"
   ]
  },
  {
   "cell_type": "markdown",
   "metadata": {},
   "source": [
    "Globel Variable"
   ]
  },
  {
   "cell_type": "code",
   "execution_count": 25,
   "metadata": {},
   "outputs": [
    {
     "name": "stdout",
     "output_type": "stream",
     "text": [
      "ACDC\n"
     ]
    }
   ],
   "source": [
    "def addDC(y):\n",
    "    x=y+\"DC\"\n",
    "    print(x)\n",
    "    #return x\n",
    "\n",
    "x=\"AC\"\n",
    "z=addDC(x)    "
   ]
  },
  {
   "cell_type": "markdown",
   "metadata": {},
   "source": [
    "Local Variable"
   ]
  },
  {
   "cell_type": "code",
   "execution_count": 32,
   "metadata": {},
   "outputs": [
    {
     "name": "stdout",
     "output_type": "stream",
     "text": [
      "1982\n",
      "2017\n"
     ]
    }
   ],
   "source": [
    "def Thriller():\n",
    "    Date=1982\n",
    "    return Date\n",
    "\n",
    "Date = 2017\n",
    "print(Thriller())\n",
    "print(Date)"
   ]
  },
  {
   "cell_type": "code",
   "execution_count": 33,
   "metadata": {},
   "outputs": [
    {
     "name": "stdout",
     "output_type": "stream",
     "text": [
      "2017\n",
      "2017\n"
     ]
    }
   ],
   "source": [
    "def Thriller():\n",
    "    return Date\n",
    "\n",
    "Date = 2017\n",
    "print(Thriller())\n",
    "print(Date)"
   ]
  },
  {
   "cell_type": "code",
   "execution_count": 40,
   "metadata": {},
   "outputs": [
    {
     "data": {
      "text/plain": [
       "6"
      ]
     },
     "execution_count": 40,
     "metadata": {},
     "output_type": "execute_result"
    }
   ],
   "source": [
    "def f(*x):\n",
    "    return sum(x)\n",
    "\n",
    "c=f(1,2,3)\n",
    "c"
   ]
  },
  {
   "cell_type": "markdown",
   "metadata": {},
   "source": [
    "## Objects and Classes"
   ]
  },
  {
   "cell_type": "code",
   "execution_count": 49,
   "metadata": {},
   "outputs": [
    {
     "name": "stdout",
     "output_type": "stream",
     "text": [
      "Harry is a SDE\n"
     ]
    }
   ],
   "source": [
    "class Person:\n",
    "    name = \"Harry\"\n",
    "    occupation = \"SDE\"\n",
    "    networth = 10\n",
    "    def info(self):\n",
    "        print(f\"{self.name} is a {self.occupation}\")\n",
    "\n",
    "a = Person()\n",
    "b = Person() \n",
    "a.info()"
   ]
  },
  {
   "cell_type": "markdown",
   "metadata": {},
   "source": [
    "self wo object jiske liye method call kiya jara h"
   ]
  },
  {
   "cell_type": "code",
   "execution_count": 50,
   "metadata": {},
   "outputs": [
    {
     "name": "stdout",
     "output_type": "stream",
     "text": [
      "Harry\n"
     ]
    }
   ],
   "source": [
    "print(a.name)  "
   ]
  },
  {
   "cell_type": "code",
   "execution_count": 51,
   "metadata": {},
   "outputs": [
    {
     "name": "stdout",
     "output_type": "stream",
     "text": [
      "Data Scientist\n"
     ]
    }
   ],
   "source": [
    "a.name = \"Shabbir\"\n",
    "a.occupation = \"Data Scientist\"\n",
    "print(a.occupation)"
   ]
  },
  {
   "cell_type": "code",
   "execution_count": 52,
   "metadata": {},
   "outputs": [
    {
     "name": "stdout",
     "output_type": "stream",
     "text": [
      "Nikita is a Java Developer\n"
     ]
    }
   ],
   "source": [
    "b.name = \"Nikita\"\n",
    "b.occupation = \"Java Developer\"\n",
    "b.info()"
   ]
  },
  {
   "cell_type": "code",
   "execution_count": 53,
   "metadata": {},
   "outputs": [
    {
     "name": "stdout",
     "output_type": "stream",
     "text": [
      "Shabbir is a Data Scientist\n"
     ]
    }
   ],
   "source": [
    "a.info()"
   ]
  },
  {
   "cell_type": "markdown",
   "metadata": {},
   "source": [
    "## Review Ques"
   ]
  },
  {
   "cell_type": "code",
   "execution_count": 55,
   "metadata": {},
   "outputs": [
    {
     "name": "stdout",
     "output_type": "stream",
     "text": [
      "Hi\n",
      "Mike\n"
     ]
    }
   ],
   "source": [
    "x=1\n",
    "\n",
    "if(x!=1):\n",
    "\n",
    "    print('Hello')\n",
    "\n",
    "else:\n",
    "\n",
    "    print('Hi')\n",
    "\n",
    "print('Mike')"
   ]
  },
  {
   "cell_type": "code",
   "execution_count": 56,
   "metadata": {},
   "outputs": [
    {
     "name": "stdout",
     "output_type": "stream",
     "text": [
      "11\n",
      "22\n",
      "33\n"
     ]
    }
   ],
   "source": [
    "A = ['1','2','3']\n",
    "\n",
    "for a in A:\n",
    "\n",
    "    print(2*a)"
   ]
  }
 ],
 "metadata": {
  "kernelspec": {
   "display_name": "Python 3",
   "language": "python",
   "name": "python3"
  },
  "language_info": {
   "codemirror_mode": {
    "name": "ipython",
    "version": 3
   },
   "file_extension": ".py",
   "mimetype": "text/x-python",
   "name": "python",
   "nbconvert_exporter": "python",
   "pygments_lexer": "ipython3",
   "version": "3.12.2"
  }
 },
 "nbformat": 4,
 "nbformat_minor": 2
}
